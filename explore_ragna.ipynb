{
 "cells": [
  {
   "cell_type": "code",
   "execution_count": 1,
   "metadata": {},
   "outputs": [],
   "source": [
    "# !pip install 'ragna[all]'"
   ]
  },
  {
   "cell_type": "code",
   "execution_count": 2,
   "metadata": {},
   "outputs": [],
   "source": [
    "import asyncio\n",
    "import itertools\n",
    "from pprint import pprint\n",
    "from dotenv import load_dotenv\n",
    "\n",
    "from ragna import Config\n",
    "from ragna.core import Rag\n",
    "from ragna.assistants import (\n",
    "    Claude,\n",
    "    ClaudeInstant,\n",
    "    Gpt4,\n",
    "    Gpt35Turbo16k,\n",
    "    Mpt7bInstruct,\n",
    "    Mpt30bInstruct,\n",
    "    RagnaDemoAssistant,\n",
    ")\n",
    "from ragna.source_storages import Chroma, LanceDB, RagnaDemoSourceStorage\n"
   ]
  },
  {
   "cell_type": "code",
   "execution_count": 3,
   "metadata": {},
   "outputs": [],
   "source": [
    "assert load_dotenv(\"./.env\")"
   ]
  },
  {
   "cell_type": "code",
   "execution_count": null,
   "metadata": {},
   "outputs": [],
   "source": [
    "# Create example doc\n",
    "\n",
    "document_content = \"\"\"Einhörner versuchen sich im Baseballspiel, während \n",
    "Katzen elegant Ballett tanzen und eine Schildkröte hartnäckig einen Marathon \n",
    "absolviert, begleitet von Wolken, die wie Zuckerwatte am Himmel schweben.\"\"\"\n",
    "\n",
    "document_path = \"ragna_example_doc.txt\"\n",
    "with open(document_path, \"w\") as file:\n",
    "    file.write(document_content)"
   ]
  },
  {
   "cell_type": "markdown",
   "metadata": {},
   "source": [
    "### Simplest dry demo RAG pipeline (demo vector store, demo LLM)"
   ]
  },
  {
   "cell_type": "code",
   "execution_count": null,
   "metadata": {},
   "outputs": [],
   "source": [
    "config = Config()\n",
    "rag = Rag(config)\n",
    "\n",
    "async with rag.chat(\n",
    "    documents=[document_path],\n",
    "    source_storage=RagnaDemoSourceStorage,\n",
    "    assistant=RagnaDemoAssistant,\n",
    ") as chat:\n",
    "    prompt = \"Was machen Einhörner, Katzen und die Schildkröte?\"\n",
    "    answer = await chat.answer(prompt)\n",
    "\n",
    "print(answer)"
   ]
  },
  {
   "cell_type": "markdown",
   "metadata": {},
   "source": [
    "### Simple RAG using openAI API"
   ]
  },
  {
   "cell_type": "code",
   "execution_count": null,
   "metadata": {},
   "outputs": [],
   "source": [
    "source_storages = [Chroma, LanceDB]\n",
    "assistants = [\n",
    "    Gpt35Turbo16k,\n",
    "    Gpt4,\n",
    "    # ClaudeInstant,\n",
    "    # Claude,\n",
    "    # Mpt7bInstruct,\n",
    "    # Mpt30bInstruct,\n",
    "]\n",
    "\n",
    "async def answer_prompt(source_storage, assistant):\n",
    "    async with rag.chat(\n",
    "        documents=[document_path],\n",
    "        source_storage=source_storage,\n",
    "        assistant=assistant,\n",
    "    ) as chat:\n",
    "        print(\"Prompt: \" + prompt)\n",
    "        message = await chat.answer(prompt)\n",
    "        return message.content\n",
    "\n",
    "\n",
    "prompt = \"Was machen Einhörner, Katzen und die Schildkröte?\"\n",
    "experiments = {\n",
    "    (source_storage.display_name(), assistant.display_name()): answer_prompt(\n",
    "        source_storage, assistant\n",
    "    )\n",
    "    for source_storage, assistant in itertools.product(source_storages, assistants)\n",
    "}\n",
    "\n",
    "results = dict(zip(experiments.keys(), await asyncio.gather(*experiments.values())))\n",
    "pprint(results)"
   ]
  },
  {
   "cell_type": "code",
   "execution_count": null,
   "metadata": {},
   "outputs": [],
   "source": [
    "source_storage = Chroma # LanceDB, Chroma\n",
    "assistant = Gpt4 # Gpt35Turbo16k, Gpt4\n",
    "\n",
    "print(source_storage.display_name(), assistant.display_name())\n",
    "\n",
    "prompt = \"Was machen Einhörner, Katzen und die Giraffe?\"\n",
    "await asyncio.gather(answer_prompt(source_storage, assistant))\n"
   ]
  },
  {
   "cell_type": "markdown",
   "metadata": {},
   "source": [
    "### Local LLM"
   ]
  },
  {
   "cell_type": "code",
   "execution_count": null,
   "metadata": {},
   "outputs": [],
   "source": [
    "# !conda install pytorch::pytorch torchvision torchaudio -c pytorch\n",
    "# !conda install optimum\n",
    "\n",
    "# !pip install auto-gptq    # NEEDS CUDA!"
   ]
  },
  {
   "cell_type": "code",
   "execution_count": 5,
   "metadata": {},
   "outputs": [],
   "source": [
    "# from ragna.core import Assistant, PackageRequirement, Source\n",
    "\n",
    "\n",
    "# class AiroborosAssistant(Assistant):\n",
    "#     @classmethod\n",
    "#     def display_name(cls):\n",
    "#         return \"TheBloke/Airoboros-L2-7B-2.2-GPTQ\"\n",
    "\n",
    "#     @classmethod\n",
    "#     def requirements(cls):\n",
    "#         return [\n",
    "#             PackageRequirement(\"torch\"),\n",
    "#             PackageRequirement(\"optimum\"),\n",
    "#             PackageRequirement(\"auto-gptq\"),\n",
    "#         ]\n",
    "\n",
    "#     @classmethod\n",
    "#     def is_available(cls):\n",
    "#         requirements_available = super().is_available()\n",
    "#         if not requirements_available:\n",
    "#             return False\n",
    "\n",
    "#         import torch\n",
    "\n",
    "#         return torch.cuda.is_available()\n",
    "\n",
    "#     def __init__(self, config):\n",
    "#         super().__init__(config)\n",
    "\n",
    "#         from auto_gptq import AutoGPTQForCausalLM\n",
    "#         from transformers import AutoTokenizer\n",
    "\n",
    "#         self.tokenizer = AutoTokenizer.from_pretrained(str(self), use_fast=True)\n",
    "#         self.model = AutoGPTQForCausalLM.from_quantized(\n",
    "#             str(self),\n",
    "#             device_map=\"auto\",\n",
    "#             use_triton=False,\n",
    "#             use_safetensors=True,\n",
    "#             trust_remote_code=False,\n",
    "#             inject_fused_attention=False,\n",
    "#         )\n",
    "\n",
    "#     @property\n",
    "#     def max_input_size(self) -> int:\n",
    "#         # FIXME\n",
    "#         return 1024\n",
    "\n",
    "#     def answer(\n",
    "#         self, prompt: str, sources: list[Source], *, max_new_tokens: int = 256\n",
    "#     ) -> str:\n",
    "#         template = \"\"\"\n",
    "#         A chat about the content of documents.\n",
    "#         Only use the content listed below to answer any questions from the user.\n",
    "#         Do not make up information.\n",
    "#         If you can't answer a question based on the information you are given, just say so.\n",
    "\n",
    "#         {sources}\n",
    "        \n",
    "#         USER: {prompt}\n",
    "#         ASSISTANT: \n",
    "#         \"\"\"\n",
    "#         templated_prompt = template.format(\n",
    "#             sources=\"- \" + \"\\n - \".join(source.content for source in sources),\n",
    "#             prompt=prompt,\n",
    "#         )\n",
    "#         input_ids = self.tokenizer(\n",
    "#             templated_prompt, return_tensors=\"pt\"\n",
    "#         ).input_ids.cuda()\n",
    "#         output_ids = self.model.generate(\n",
    "#             inputs=input_ids,\n",
    "#             do_sample=False,\n",
    "#             max_new_tokens=max_new_tokens,\n",
    "#         )\n",
    "#         output = self.tokenizer.decode(output_ids[0])\n",
    "#         return output.rsplit(\"ASSISTANT:\", 1)[-1].replace(\"</s>\", \"\").strip()\n",
    "\n",
    "\n",
    "# assert AiroborosAssistant.is_available()"
   ]
  }
 ],
 "metadata": {
  "kernelspec": {
   "display_name": "env_llm_playground",
   "language": "python",
   "name": "python3"
  },
  "language_info": {
   "codemirror_mode": {
    "name": "ipython",
    "version": 3
   },
   "file_extension": ".py",
   "mimetype": "text/x-python",
   "name": "python",
   "nbconvert_exporter": "python",
   "pygments_lexer": "ipython3",
   "version": "3.12.2"
  }
 },
 "nbformat": 4,
 "nbformat_minor": 2
}
