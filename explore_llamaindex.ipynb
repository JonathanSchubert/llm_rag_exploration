{
 "cells": [
  {
   "cell_type": "markdown",
   "metadata": {},
   "source": [
    "## Prep"
   ]
  },
  {
   "cell_type": "code",
   "execution_count": null,
   "metadata": {},
   "outputs": [],
   "source": [
    "# https://docs.llamaindex.ai/en/stable/examples/llm/llama_2_llama_cpp.html\n",
    "\n",
    "# # INSTALL\n",
    "# conda create llamaindex python=3.12.2\n",
    "# pip install llama-index\n",
    "# CMAKE_ARGS=\"-DLLAMA_METAL=on\" pip install -U llama-cpp-python --no-cache-dir pip install 'llama-cpp-python[server]'\n",
    "# pip install llama-index-llms-llama-cpp\n",
    "# pip install llama-index-embeddings-huggingface\n",
    "# pip install llama_index-llms-ollama\n",
    "# pip install llama-index-llms-openai"
   ]
  },
  {
   "cell_type": "code",
   "execution_count": null,
   "metadata": {},
   "outputs": [],
   "source": [
    "import logging\n",
    "import sys\n",
    "import os.path\n",
    "import time\n",
    "from pprint import pprint\n",
    "\n",
    "logging.basicConfig(stream=sys.stdout, level=logging.INFO)\n",
    "logging.getLogger().addHandler(logging.StreamHandler(stream=sys.stdout))\n",
    "\n",
    "from llama_index.llms.llama_cpp import LlamaCPP\n",
    "from llama_index.llms.ollama import Ollama\n",
    "from llama_index.llms.openai import OpenAI\n",
    "from llama_index.llms.llama_cpp.llama_utils import (\n",
    "    messages_to_prompt,\n",
    "    completion_to_prompt,\n",
    ")\n",
    "from llama_index.core import (\n",
    "    VectorStoreIndex,\n",
    "    SimpleDirectoryReader,\n",
    "    StorageContext,\n",
    "    load_index_from_storage,\n",
    "    set_global_tokenizer,\n",
    "    Settings,\n",
    ")\n",
    "from llama_index.core.embeddings import resolve_embed_model\n",
    "from llama_index.core.llms import ChatMessage\n",
    "from llama_index.embeddings.huggingface import HuggingFaceEmbedding\n",
    "from transformers import AutoTokenizer\n",
    "import tiktoken"
   ]
  },
  {
   "cell_type": "code",
   "execution_count": null,
   "metadata": {},
   "outputs": [],
   "source": [
    "def timed_stream_print(resp):\n",
    "    start_time = time.time()\n",
    "    token_count = 0\n",
    "    for token in resp.response_gen:\n",
    "        print(token, end=\"\")\n",
    "        token_count += 1\n",
    "    time_elapsed = time.time() - start_time\n",
    "    tokens_per_second = token_count / time_elapsed\n",
    "\n",
    "    print(f\"\\n\\nStreamed output at {tokens_per_second:.2f} tokens/s\")"
   ]
  },
  {
   "cell_type": "markdown",
   "metadata": {},
   "source": [
    "## Init LLM\n",
    "### local - llama_cpp"
   ]
  },
  {
   "cell_type": "code",
   "execution_count": null,
   "metadata": {},
   "outputs": [],
   "source": [
    "model_url = \"https://huggingface.co/TheBloke/Llama-2-13B-chat-GGUF/resolve/main/llama-2-13b-chat.Q4_0.gguf\"\n",
    "\n",
    "Settings.llm = LlamaCPP(\n",
    "    # You can pass in the URL to a GGML model to download it automatically\n",
    "    model_url=model_url,\n",
    "    # optionally, you can set the path to a pre-downloaded model instead of model_url\n",
    "    model_path=None,\n",
    "    temperature=0.1,\n",
    "    max_new_tokens=256,\n",
    "    # llama2 has a context window of 4096 tokens, but we set it lower to allow for some wiggle room\n",
    "    context_window=1000, #3900,\n",
    "    # kwargs to pass to __call__()\n",
    "    generate_kwargs={},\n",
    "    # kwargs to pass to __init__()\n",
    "    # set to at least 1 to use GPU\n",
    "    # model_kwargs={\"n_gpu_layers\": 1},\n",
    "    # transform inputs into Llama2 format\n",
    "    messages_to_prompt=messages_to_prompt,\n",
    "    completion_to_prompt=completion_to_prompt,\n",
    "    verbose=False,\n",
    ")"
   ]
  },
  {
   "cell_type": "markdown",
   "metadata": {},
   "source": [
    "### local - ollama"
   ]
  },
  {
   "cell_type": "code",
   "execution_count": null,
   "metadata": {},
   "outputs": [],
   "source": [
    "model = \"llama2\"\n",
    "model = \"mistral\"\n",
    "\n",
    "Settings.llm = Ollama(model=model, request_timeout=30.0)"
   ]
  },
  {
   "cell_type": "markdown",
   "metadata": {},
   "source": [
    "### API - OpenAI"
   ]
  },
  {
   "cell_type": "code",
   "execution_count": null,
   "metadata": {},
   "outputs": [],
   "source": [
    "Settings.llm = OpenAI()"
   ]
  },
  {
   "cell_type": "markdown",
   "metadata": {},
   "source": [
    "## Simple query without RAG"
   ]
  },
  {
   "cell_type": "code",
   "execution_count": null,
   "metadata": {},
   "outputs": [],
   "source": [
    "query = \"Hello! Can you tell me a poem about cats and dogs?\"\n",
    "query = \"Can you write me a extremely short poem about slow cars?\"\n",
    "query = \"Who wrote the text?\"\n",
    "\n",
    "# # simple complete\n",
    "# response = Settings.llm.complete(query)\n",
    "# print(response.text)\n",
    "\n",
    "# streamed complete\n",
    "response_iter = Settings.llm.stream_complete(query)\n",
    "for response in response_iter:\n",
    "    print(response.delta, end=\"\", flush=True)"
   ]
  },
  {
   "cell_type": "code",
   "execution_count": null,
   "metadata": {},
   "outputs": [],
   "source": [
    "query = \"What is your name?\"\n",
    "# query = \"Who wrote the text?\"\n",
    "\n",
    "# streamed chat\n",
    "messages = [\n",
    "    ChatMessage(\n",
    "        role=\"system\", content=\"You are a pirate with a colorful personality. The answers are always as short as possible.\"\n",
    "    ),\n",
    "    ChatMessage(role=\"user\", content=query),\n",
    "]\n",
    "response_iter = Settings.llm.stream_chat(messages)\n",
    "for response in response_iter:\n",
    "    print(response.delta, end=\"\", flush=True)"
   ]
  },
  {
   "cell_type": "markdown",
   "metadata": {},
   "source": [
    "## Create RAG"
   ]
  },
  {
   "cell_type": "code",
   "execution_count": null,
   "metadata": {},
   "outputs": [],
   "source": [
    "# init tokenizer\n",
    "Settings.tokenizer = AutoTokenizer.from_pretrained(\"NousResearch/Llama-2-7b-chat-hf\").encode\n",
    "Settings.tokenizer = AutoTokenizer.from_pretrained(\"HuggingFaceH4/zephyr-7b-beta\")\n",
    "Settings.tokenizer = tiktoken.encoding_for_model(\"gpt-3.5-turbo\").encode"
   ]
  },
  {
   "cell_type": "code",
   "execution_count": null,
   "metadata": {},
   "outputs": [],
   "source": [
    "# init embedding\n",
    "\n",
    "# use Huggingface embeddings\n",
    "Settings.embed_model = HuggingFaceEmbedding(model_name=\"BAAI/bge-small-en-v1.5\")\n",
    "\n",
    "# # bge-m3 embedding model\n",
    "# Settings.embed_model = resolve_embed_model(\"local:BAAI/bge-small-en-v1.5\")"
   ]
  },
  {
   "cell_type": "code",
   "execution_count": null,
   "metadata": {},
   "outputs": [],
   "source": [
    "# init vector store\n",
    "\n",
    "DATA_DIR = \"./data\"\n",
    "\n",
    "# # load documents\n",
    "# documents = SimpleDirectoryReader(DATA_DIR).load_data()\n",
    "# # create vector store index\n",
    "# index = VectorStoreIndex.from_documents(documents, embed_model=embed_model)\n",
    "\n",
    "# persisted store\n",
    "PERSIST_DIR = f\"./storage_{Settings.embed_model.model_name}\"\n",
    "if not os.path.exists(PERSIST_DIR):\n",
    "    documents = SimpleDirectoryReader(DATA_DIR).load_data()\n",
    "    index = VectorStoreIndex.from_documents(documents)\n",
    "    index.storage_context.persist(persist_dir=PERSIST_DIR)\n",
    "    print(\"created vectors store\")\n",
    "else:\n",
    "    storage_context = StorageContext.from_defaults(persist_dir=PERSIST_DIR)\n",
    "    index = load_index_from_storage(storage_context)\n",
    "    print(\"imported vectors store\")"
   ]
  },
  {
   "cell_type": "markdown",
   "metadata": {},
   "source": [
    "## Query RAG"
   ]
  },
  {
   "cell_type": "code",
   "execution_count": null,
   "metadata": {},
   "outputs": [],
   "source": [
    "query = \"What did the author do growing up?\"\n",
    "query = \"What happened at interleaf? Just answer in a short sentence.\"\n",
    "query = \"Who wrote the text?\"\n",
    "\n",
    "query = \"What did the author do growing up? Give an extremely short answer.\"\n",
    "query = \"Wer ist der Author?\"\n",
    "query = \"Von wann ist der Text?\"\n",
    "query = \"Welche Farbe hat das Eichhörnchen?\"\n",
    "\n",
    "# # simple query engine\n",
    "# query_engine = index.as_query_engine(llm=llm)\n",
    "# response = query_engine.query(query)\n",
    "# print(response)\n",
    "\n",
    "# streamed query engine\n",
    "query_engine = index.as_query_engine(streaming=True)\n",
    "response = query_engine.query(query)\n",
    "\n",
    "timed_stream_print(response)"
   ]
  },
  {
   "cell_type": "code",
   "execution_count": null,
   "metadata": {},
   "outputs": [],
   "source": [
    "# chat with context\n",
    "\n",
    "chat_engine = index.as_chat_engine()\n",
    "response = chat_engine.chat(query)\n",
    "pprint(response)"
   ]
  }
 ],
 "metadata": {
  "kernelspec": {
   "display_name": "llamaindex",
   "language": "python",
   "name": "python3"
  },
  "language_info": {
   "codemirror_mode": {
    "name": "ipython",
    "version": 3
   },
   "file_extension": ".py",
   "mimetype": "text/x-python",
   "name": "python",
   "nbconvert_exporter": "python",
   "pygments_lexer": "ipython3",
   "version": "3.12.2"
  }
 },
 "nbformat": 4,
 "nbformat_minor": 2
}
